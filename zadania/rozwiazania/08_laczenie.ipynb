{
 "cells": [
  {
   "cell_type": "markdown",
   "id": "03d44813-d421-4ca3-9aa8-570a03834ac1",
   "metadata": {},
   "source": [
    "### Zadanie 8: Łączenie ramek"
   ]
  },
  {
   "cell_type": "markdown",
   "id": "5fa898ed-ae30-4e33-a90a-d0437780af05",
   "metadata": {},
   "source": [
    "To zadanie ma na celu pomoc w zrozumieniu, jak efektywnie łączyć dane z różnych źródeł i jakie są różnice pomiędzy różnymi typami łączeń."
   ]
  },
  {
   "cell_type": "markdown",
   "id": "41c1dcbe-1211-42c1-b514-d6b9b85d1112",
   "metadata": {},
   "source": [
    "Wyobraź sobie, że pracujesz w dziale sprzedaży firmy, która prowadzi różne kampanie marketingowe. Masz dwa pliki csv: jeden zawiera informacje o sprzedaży, a drugi o klientach. Twoim zadaniem będzie połączenie tych danych, aby uzyskać pełny obraz sprzedaży w kontekście klientów i kampanii."
   ]
  },
  {
   "cell_type": "markdown",
   "id": "e177b4c5-aeef-4eb4-8891-1da7c4a16edc",
   "metadata": {},
   "source": [
    "**1. Wczytaj dane**\n",
    "\n",
    "Wczytaj oba pliki CSV do osobnych ram danych."
   ]
  },
  {
   "cell_type": "code",
   "execution_count": 3,
   "id": "ca5ebae5-3fcc-4c3e-812f-753b9018b74a",
   "metadata": {},
   "outputs": [],
   "source": [
    "import pandas as pd"
   ]
  },
  {
   "cell_type": "code",
   "execution_count": 5,
   "id": "3af6d3ac-cb57-4195-828e-b27900386bd8",
   "metadata": {},
   "outputs": [
    {
     "data": {
      "text/html": [
       "<div>\n",
       "<style scoped>\n",
       "    .dataframe tbody tr th:only-of-type {\n",
       "        vertical-align: middle;\n",
       "    }\n",
       "\n",
       "    .dataframe tbody tr th {\n",
       "        vertical-align: top;\n",
       "    }\n",
       "\n",
       "    .dataframe thead th {\n",
       "        text-align: right;\n",
       "    }\n",
       "</style>\n",
       "<table border=\"1\" class=\"dataframe\">\n",
       "  <thead>\n",
       "    <tr style=\"text-align: right;\">\n",
       "      <th></th>\n",
       "      <th>id_klienta</th>\n",
       "      <th>nazwa</th>\n",
       "      <th>miasto</th>\n",
       "    </tr>\n",
       "  </thead>\n",
       "  <tbody>\n",
       "    <tr>\n",
       "      <th>0</th>\n",
       "      <td>1</td>\n",
       "      <td>Anna Kowalska</td>\n",
       "      <td>Warszawa</td>\n",
       "    </tr>\n",
       "    <tr>\n",
       "      <th>1</th>\n",
       "      <td>2</td>\n",
       "      <td>Jan Nowak</td>\n",
       "      <td>Kraków</td>\n",
       "    </tr>\n",
       "    <tr>\n",
       "      <th>2</th>\n",
       "      <td>3</td>\n",
       "      <td>Katarzyna Wiśniewska</td>\n",
       "      <td>Gdańsk</td>\n",
       "    </tr>\n",
       "    <tr>\n",
       "      <th>3</th>\n",
       "      <td>6</td>\n",
       "      <td>Michał Zając</td>\n",
       "      <td>Wrocław</td>\n",
       "    </tr>\n",
       "  </tbody>\n",
       "</table>\n",
       "</div>"
      ],
      "text/plain": [
       "   id_klienta                 nazwa    miasto\n",
       "0           1         Anna Kowalska  Warszawa\n",
       "1           2             Jan Nowak    Kraków\n",
       "2           3  Katarzyna Wiśniewska    Gdańsk\n",
       "3           6          Michał Zając   Wrocław"
      ]
     },
     "execution_count": 5,
     "metadata": {},
     "output_type": "execute_result"
    }
   ],
   "source": [
    "# 1. Wczytaj dane\n",
    "clients_df = pd.read_csv('data/clients.csv')\n",
    "clients_df"
   ]
  },
  {
   "cell_type": "code",
   "execution_count": 6,
   "id": "a1e2412a-9454-4923-839d-446f4f0da589",
   "metadata": {},
   "outputs": [
    {
     "data": {
      "text/html": [
       "<div>\n",
       "<style scoped>\n",
       "    .dataframe tbody tr th:only-of-type {\n",
       "        vertical-align: middle;\n",
       "    }\n",
       "\n",
       "    .dataframe tbody tr th {\n",
       "        vertical-align: top;\n",
       "    }\n",
       "\n",
       "    .dataframe thead th {\n",
       "        text-align: right;\n",
       "    }\n",
       "</style>\n",
       "<table border=\"1\" class=\"dataframe\">\n",
       "  <thead>\n",
       "    <tr style=\"text-align: right;\">\n",
       "      <th></th>\n",
       "      <th>id_klienta</th>\n",
       "      <th>data_sprzedazy</th>\n",
       "      <th>sprzedaz</th>\n",
       "    </tr>\n",
       "  </thead>\n",
       "  <tbody>\n",
       "    <tr>\n",
       "      <th>0</th>\n",
       "      <td>1</td>\n",
       "      <td>2023-01-15</td>\n",
       "      <td>300</td>\n",
       "    </tr>\n",
       "    <tr>\n",
       "      <th>1</th>\n",
       "      <td>2</td>\n",
       "      <td>2023-01-16</td>\n",
       "      <td>450</td>\n",
       "    </tr>\n",
       "    <tr>\n",
       "      <th>2</th>\n",
       "      <td>3</td>\n",
       "      <td>2023-01-17</td>\n",
       "      <td>200</td>\n",
       "    </tr>\n",
       "    <tr>\n",
       "      <th>3</th>\n",
       "      <td>4</td>\n",
       "      <td>2023-01-18</td>\n",
       "      <td>600</td>\n",
       "    </tr>\n",
       "    <tr>\n",
       "      <th>4</th>\n",
       "      <td>5</td>\n",
       "      <td>2023-01-19</td>\n",
       "      <td>350</td>\n",
       "    </tr>\n",
       "  </tbody>\n",
       "</table>\n",
       "</div>"
      ],
      "text/plain": [
       "   id_klienta data_sprzedazy  sprzedaz\n",
       "0           1     2023-01-15       300\n",
       "1           2     2023-01-16       450\n",
       "2           3     2023-01-17       200\n",
       "3           4     2023-01-18       600\n",
       "4           5     2023-01-19       350"
      ]
     },
     "execution_count": 6,
     "metadata": {},
     "output_type": "execute_result"
    }
   ],
   "source": [
    "transactions_df = pd.read_csv('data/transactions.csv')\n",
    "transactions_df"
   ]
  },
  {
   "cell_type": "markdown",
   "id": "20c04631-2906-4b70-afc1-647216f222b7",
   "metadata": {},
   "source": [
    "**2. Sprzedaż z klientami, którzy dokonali zakupów**\n",
    "\n",
    "Połącz ramki danych na podstawie id_klienta, aby uzyskać sprzedaż tylko tych klientów, którzy dokonali zakupów."
   ]
  },
  {
   "cell_type": "code",
   "execution_count": 8,
   "id": "e51bf4e2-2df3-48a7-af3e-425aa3915ea7",
   "metadata": {},
   "outputs": [
    {
     "name": "stdout",
     "output_type": "stream",
     "text": [
      "Sprzedaż z klientami, którzy dokonali zakupów:\n"
     ]
    },
    {
     "data": {
      "text/html": [
       "<div>\n",
       "<style scoped>\n",
       "    .dataframe tbody tr th:only-of-type {\n",
       "        vertical-align: middle;\n",
       "    }\n",
       "\n",
       "    .dataframe tbody tr th {\n",
       "        vertical-align: top;\n",
       "    }\n",
       "\n",
       "    .dataframe thead th {\n",
       "        text-align: right;\n",
       "    }\n",
       "</style>\n",
       "<table border=\"1\" class=\"dataframe\">\n",
       "  <thead>\n",
       "    <tr style=\"text-align: right;\">\n",
       "      <th></th>\n",
       "      <th>id_klienta</th>\n",
       "      <th>data_sprzedazy</th>\n",
       "      <th>sprzedaz</th>\n",
       "      <th>nazwa</th>\n",
       "      <th>miasto</th>\n",
       "    </tr>\n",
       "  </thead>\n",
       "  <tbody>\n",
       "    <tr>\n",
       "      <th>0</th>\n",
       "      <td>1</td>\n",
       "      <td>2023-01-15</td>\n",
       "      <td>300</td>\n",
       "      <td>Anna Kowalska</td>\n",
       "      <td>Warszawa</td>\n",
       "    </tr>\n",
       "    <tr>\n",
       "      <th>1</th>\n",
       "      <td>2</td>\n",
       "      <td>2023-01-16</td>\n",
       "      <td>450</td>\n",
       "      <td>Jan Nowak</td>\n",
       "      <td>Kraków</td>\n",
       "    </tr>\n",
       "    <tr>\n",
       "      <th>2</th>\n",
       "      <td>3</td>\n",
       "      <td>2023-01-17</td>\n",
       "      <td>200</td>\n",
       "      <td>Katarzyna Wiśniewska</td>\n",
       "      <td>Gdańsk</td>\n",
       "    </tr>\n",
       "  </tbody>\n",
       "</table>\n",
       "</div>"
      ],
      "text/plain": [
       "   id_klienta data_sprzedazy  sprzedaz                 nazwa    miasto\n",
       "0           1     2023-01-15       300         Anna Kowalska  Warszawa\n",
       "1           2     2023-01-16       450             Jan Nowak    Kraków\n",
       "2           3     2023-01-17       200  Katarzyna Wiśniewska    Gdańsk"
      ]
     },
     "execution_count": 8,
     "metadata": {},
     "output_type": "execute_result"
    }
   ],
   "source": [
    "# 2. Sprzedaż z klientami, którzy dokonali zakupów\n",
    "inner_merge = pd.merge(transactions_df, clients_df, on='id_klienta', how='inner')\n",
    "print(\"Sprzedaż z klientami, którzy dokonali zakupów:\")\n",
    "inner_merge"
   ]
  },
  {
   "cell_type": "markdown",
   "id": "d14237c7-f92e-450a-8651-e2445a2e80e2",
   "metadata": {},
   "source": [
    "**3. Pełne dane o sprzedaży i klientach**\n",
    "\n",
    "Połącz ramki danych, aby uzyskać wszystkie informacje o sprzedaży i klientach, wypełniając brakujące wartości NaN."
   ]
  },
  {
   "cell_type": "code",
   "execution_count": 11,
   "id": "5954abe5-e1fe-474f-bea6-258ed8c5ab25",
   "metadata": {},
   "outputs": [
    {
     "name": "stdout",
     "output_type": "stream",
     "text": [
      "\n",
      "Pełne dane o sprzedaży i klientach:\n"
     ]
    },
    {
     "data": {
      "text/html": [
       "<div>\n",
       "<style scoped>\n",
       "    .dataframe tbody tr th:only-of-type {\n",
       "        vertical-align: middle;\n",
       "    }\n",
       "\n",
       "    .dataframe tbody tr th {\n",
       "        vertical-align: top;\n",
       "    }\n",
       "\n",
       "    .dataframe thead th {\n",
       "        text-align: right;\n",
       "    }\n",
       "</style>\n",
       "<table border=\"1\" class=\"dataframe\">\n",
       "  <thead>\n",
       "    <tr style=\"text-align: right;\">\n",
       "      <th></th>\n",
       "      <th>id_klienta</th>\n",
       "      <th>data_sprzedazy</th>\n",
       "      <th>sprzedaz</th>\n",
       "      <th>nazwa</th>\n",
       "      <th>miasto</th>\n",
       "    </tr>\n",
       "  </thead>\n",
       "  <tbody>\n",
       "    <tr>\n",
       "      <th>0</th>\n",
       "      <td>1</td>\n",
       "      <td>2023-01-15</td>\n",
       "      <td>300.0</td>\n",
       "      <td>Anna Kowalska</td>\n",
       "      <td>Warszawa</td>\n",
       "    </tr>\n",
       "    <tr>\n",
       "      <th>1</th>\n",
       "      <td>2</td>\n",
       "      <td>2023-01-16</td>\n",
       "      <td>450.0</td>\n",
       "      <td>Jan Nowak</td>\n",
       "      <td>Kraków</td>\n",
       "    </tr>\n",
       "    <tr>\n",
       "      <th>2</th>\n",
       "      <td>3</td>\n",
       "      <td>2023-01-17</td>\n",
       "      <td>200.0</td>\n",
       "      <td>Katarzyna Wiśniewska</td>\n",
       "      <td>Gdańsk</td>\n",
       "    </tr>\n",
       "    <tr>\n",
       "      <th>3</th>\n",
       "      <td>4</td>\n",
       "      <td>2023-01-18</td>\n",
       "      <td>600.0</td>\n",
       "      <td>NaN</td>\n",
       "      <td>NaN</td>\n",
       "    </tr>\n",
       "    <tr>\n",
       "      <th>4</th>\n",
       "      <td>5</td>\n",
       "      <td>2023-01-19</td>\n",
       "      <td>350.0</td>\n",
       "      <td>NaN</td>\n",
       "      <td>NaN</td>\n",
       "    </tr>\n",
       "    <tr>\n",
       "      <th>5</th>\n",
       "      <td>6</td>\n",
       "      <td>NaN</td>\n",
       "      <td>NaN</td>\n",
       "      <td>Michał Zając</td>\n",
       "      <td>Wrocław</td>\n",
       "    </tr>\n",
       "  </tbody>\n",
       "</table>\n",
       "</div>"
      ],
      "text/plain": [
       "   id_klienta data_sprzedazy  sprzedaz                 nazwa    miasto\n",
       "0           1     2023-01-15     300.0         Anna Kowalska  Warszawa\n",
       "1           2     2023-01-16     450.0             Jan Nowak    Kraków\n",
       "2           3     2023-01-17     200.0  Katarzyna Wiśniewska    Gdańsk\n",
       "3           4     2023-01-18     600.0                   NaN       NaN\n",
       "4           5     2023-01-19     350.0                   NaN       NaN\n",
       "5           6            NaN       NaN          Michał Zając   Wrocław"
      ]
     },
     "execution_count": 11,
     "metadata": {},
     "output_type": "execute_result"
    }
   ],
   "source": [
    "# 3. Pełne dane o sprzedaży i klientach\n",
    "outer_merge = pd.merge(transactions_df, clients_df, on='id_klienta', how='outer')\n",
    "print(\"\\nPełne dane o sprzedaży i klientach:\")\n",
    "outer_merge"
   ]
  },
  {
   "cell_type": "markdown",
   "id": "6dc8ae1c-0692-409f-9350-76f101311efe",
   "metadata": {},
   "source": [
    "**4. Sprzedaż z wszystkich klientów**\n",
    "\n",
    "Połącz ramki danych, aby uzyskać sprzedaż dla wszystkich klientów, nawet tych, którzy nie dokonali żadnych zakupów."
   ]
  },
  {
   "cell_type": "code",
   "execution_count": 10,
   "id": "d68466ad-dbe1-4cc6-a48e-51e28cbb8c75",
   "metadata": {},
   "outputs": [
    {
     "name": "stdout",
     "output_type": "stream",
     "text": [
      "\n",
      "Sprzedaż z wszystkich klientów:\n"
     ]
    },
    {
     "data": {
      "text/html": [
       "<div>\n",
       "<style scoped>\n",
       "    .dataframe tbody tr th:only-of-type {\n",
       "        vertical-align: middle;\n",
       "    }\n",
       "\n",
       "    .dataframe tbody tr th {\n",
       "        vertical-align: top;\n",
       "    }\n",
       "\n",
       "    .dataframe thead th {\n",
       "        text-align: right;\n",
       "    }\n",
       "</style>\n",
       "<table border=\"1\" class=\"dataframe\">\n",
       "  <thead>\n",
       "    <tr style=\"text-align: right;\">\n",
       "      <th></th>\n",
       "      <th>id_klienta</th>\n",
       "      <th>data_sprzedazy</th>\n",
       "      <th>sprzedaz</th>\n",
       "      <th>nazwa</th>\n",
       "      <th>miasto</th>\n",
       "    </tr>\n",
       "  </thead>\n",
       "  <tbody>\n",
       "    <tr>\n",
       "      <th>0</th>\n",
       "      <td>1</td>\n",
       "      <td>2023-01-15</td>\n",
       "      <td>300</td>\n",
       "      <td>Anna Kowalska</td>\n",
       "      <td>Warszawa</td>\n",
       "    </tr>\n",
       "    <tr>\n",
       "      <th>1</th>\n",
       "      <td>2</td>\n",
       "      <td>2023-01-16</td>\n",
       "      <td>450</td>\n",
       "      <td>Jan Nowak</td>\n",
       "      <td>Kraków</td>\n",
       "    </tr>\n",
       "    <tr>\n",
       "      <th>2</th>\n",
       "      <td>3</td>\n",
       "      <td>2023-01-17</td>\n",
       "      <td>200</td>\n",
       "      <td>Katarzyna Wiśniewska</td>\n",
       "      <td>Gdańsk</td>\n",
       "    </tr>\n",
       "    <tr>\n",
       "      <th>3</th>\n",
       "      <td>4</td>\n",
       "      <td>2023-01-18</td>\n",
       "      <td>600</td>\n",
       "      <td>NaN</td>\n",
       "      <td>NaN</td>\n",
       "    </tr>\n",
       "    <tr>\n",
       "      <th>4</th>\n",
       "      <td>5</td>\n",
       "      <td>2023-01-19</td>\n",
       "      <td>350</td>\n",
       "      <td>NaN</td>\n",
       "      <td>NaN</td>\n",
       "    </tr>\n",
       "  </tbody>\n",
       "</table>\n",
       "</div>"
      ],
      "text/plain": [
       "   id_klienta data_sprzedazy  sprzedaz                 nazwa    miasto\n",
       "0           1     2023-01-15       300         Anna Kowalska  Warszawa\n",
       "1           2     2023-01-16       450             Jan Nowak    Kraków\n",
       "2           3     2023-01-17       200  Katarzyna Wiśniewska    Gdańsk\n",
       "3           4     2023-01-18       600                   NaN       NaN\n",
       "4           5     2023-01-19       350                   NaN       NaN"
      ]
     },
     "execution_count": 10,
     "metadata": {},
     "output_type": "execute_result"
    }
   ],
   "source": [
    "# 4. Sprzedaż z wszystkich klientów\n",
    "left_merge = pd.merge(transactions_df, clients_df, on='id_klienta', how='left')\n",
    "print(\"\\nSprzedaż z wszystkich klientów:\")\n",
    "left_merge"
   ]
  },
  {
   "cell_type": "markdown",
   "id": "5ea7432a-13fe-4c9e-bbc5-b4918fa1e51b",
   "metadata": {},
   "source": [
    "**5. Klienci z zakupami**\n",
    "\n",
    "Połącz ramki danych, aby uzyskać listę klientów, którzy dokonali zakupów oraz ich dane."
   ]
  },
  {
   "cell_type": "code",
   "execution_count": 13,
   "id": "765af0a0-60e6-4bc2-a86a-fb34d12d6c3e",
   "metadata": {},
   "outputs": [
    {
     "name": "stdout",
     "output_type": "stream",
     "text": [
      "\n",
      "Klienci z zakupami:\n"
     ]
    },
    {
     "data": {
      "text/html": [
       "<div>\n",
       "<style scoped>\n",
       "    .dataframe tbody tr th:only-of-type {\n",
       "        vertical-align: middle;\n",
       "    }\n",
       "\n",
       "    .dataframe tbody tr th {\n",
       "        vertical-align: top;\n",
       "    }\n",
       "\n",
       "    .dataframe thead th {\n",
       "        text-align: right;\n",
       "    }\n",
       "</style>\n",
       "<table border=\"1\" class=\"dataframe\">\n",
       "  <thead>\n",
       "    <tr style=\"text-align: right;\">\n",
       "      <th></th>\n",
       "      <th>id_klienta</th>\n",
       "      <th>data_sprzedazy</th>\n",
       "      <th>sprzedaz</th>\n",
       "      <th>nazwa</th>\n",
       "      <th>miasto</th>\n",
       "    </tr>\n",
       "  </thead>\n",
       "  <tbody>\n",
       "    <tr>\n",
       "      <th>0</th>\n",
       "      <td>1</td>\n",
       "      <td>2023-01-15</td>\n",
       "      <td>300.0</td>\n",
       "      <td>Anna Kowalska</td>\n",
       "      <td>Warszawa</td>\n",
       "    </tr>\n",
       "    <tr>\n",
       "      <th>1</th>\n",
       "      <td>2</td>\n",
       "      <td>2023-01-16</td>\n",
       "      <td>450.0</td>\n",
       "      <td>Jan Nowak</td>\n",
       "      <td>Kraków</td>\n",
       "    </tr>\n",
       "    <tr>\n",
       "      <th>2</th>\n",
       "      <td>3</td>\n",
       "      <td>2023-01-17</td>\n",
       "      <td>200.0</td>\n",
       "      <td>Katarzyna Wiśniewska</td>\n",
       "      <td>Gdańsk</td>\n",
       "    </tr>\n",
       "    <tr>\n",
       "      <th>3</th>\n",
       "      <td>6</td>\n",
       "      <td>NaN</td>\n",
       "      <td>NaN</td>\n",
       "      <td>Michał Zając</td>\n",
       "      <td>Wrocław</td>\n",
       "    </tr>\n",
       "  </tbody>\n",
       "</table>\n",
       "</div>"
      ],
      "text/plain": [
       "   id_klienta data_sprzedazy  sprzedaz                 nazwa    miasto\n",
       "0           1     2023-01-15     300.0         Anna Kowalska  Warszawa\n",
       "1           2     2023-01-16     450.0             Jan Nowak    Kraków\n",
       "2           3     2023-01-17     200.0  Katarzyna Wiśniewska    Gdańsk\n",
       "3           6            NaN       NaN          Michał Zając   Wrocław"
      ]
     },
     "execution_count": 13,
     "metadata": {},
     "output_type": "execute_result"
    }
   ],
   "source": [
    "# 5. Klienci z zakupami\n",
    "right_merge = pd.merge(transactions_df, clients_df, on='id_klienta', how='right')\n",
    "print(\"\\nKlienci z zakupami:\")\n",
    "right_merge"
   ]
  },
  {
   "cell_type": "markdown",
   "id": "78bffd6e-018c-4987-bfae-c36d76846eb0",
   "metadata": {},
   "source": [
    "**6. Concat danych sprzedażowych**\n",
    "\n",
    "Dodaj nowe dane sprzedażowe do istniejącej ramki z danymi sprzedaży:\n",
    "\n",
    "<pre><code>additional_data = {\n",
    "    'id_klienta': [7, 8],\n",
    "    'data_sprzedazy': ['2023-01-20', '2023-01-21'],\n",
    "    'sprzedaz': [500, 700]\n",
    "}</code></pre>"
   ]
  },
  {
   "cell_type": "code",
   "execution_count": 14,
   "id": "3b71687c-4141-40e7-815d-f10773f2758a",
   "metadata": {},
   "outputs": [],
   "source": [
    "# Dodatkowe dane sprzedażowe\n",
    "additional_data = {\n",
    "    'id_klienta': [7, 8],\n",
    "    'data_sprzedazy': ['2023-01-20', '2023-01-21'],\n",
    "    'sprzedaz': [500, 700]\n",
    "}\n",
    "additional_df = pd.DataFrame(additional_data)"
   ]
  },
  {
   "cell_type": "code",
   "execution_count": 15,
   "id": "dd5c908c-196e-4e50-a1bb-a6e645916e22",
   "metadata": {},
   "outputs": [
    {
     "name": "stdout",
     "output_type": "stream",
     "text": [
      "\n",
      "Concat danych sprzedażowych:\n"
     ]
    },
    {
     "data": {
      "text/html": [
       "<div>\n",
       "<style scoped>\n",
       "    .dataframe tbody tr th:only-of-type {\n",
       "        vertical-align: middle;\n",
       "    }\n",
       "\n",
       "    .dataframe tbody tr th {\n",
       "        vertical-align: top;\n",
       "    }\n",
       "\n",
       "    .dataframe thead th {\n",
       "        text-align: right;\n",
       "    }\n",
       "</style>\n",
       "<table border=\"1\" class=\"dataframe\">\n",
       "  <thead>\n",
       "    <tr style=\"text-align: right;\">\n",
       "      <th></th>\n",
       "      <th>id_klienta</th>\n",
       "      <th>data_sprzedazy</th>\n",
       "      <th>sprzedaz</th>\n",
       "    </tr>\n",
       "  </thead>\n",
       "  <tbody>\n",
       "    <tr>\n",
       "      <th>0</th>\n",
       "      <td>1</td>\n",
       "      <td>2023-01-15</td>\n",
       "      <td>300</td>\n",
       "    </tr>\n",
       "    <tr>\n",
       "      <th>1</th>\n",
       "      <td>2</td>\n",
       "      <td>2023-01-16</td>\n",
       "      <td>450</td>\n",
       "    </tr>\n",
       "    <tr>\n",
       "      <th>2</th>\n",
       "      <td>3</td>\n",
       "      <td>2023-01-17</td>\n",
       "      <td>200</td>\n",
       "    </tr>\n",
       "    <tr>\n",
       "      <th>3</th>\n",
       "      <td>4</td>\n",
       "      <td>2023-01-18</td>\n",
       "      <td>600</td>\n",
       "    </tr>\n",
       "    <tr>\n",
       "      <th>4</th>\n",
       "      <td>5</td>\n",
       "      <td>2023-01-19</td>\n",
       "      <td>350</td>\n",
       "    </tr>\n",
       "    <tr>\n",
       "      <th>5</th>\n",
       "      <td>7</td>\n",
       "      <td>2023-01-20</td>\n",
       "      <td>500</td>\n",
       "    </tr>\n",
       "    <tr>\n",
       "      <th>6</th>\n",
       "      <td>8</td>\n",
       "      <td>2023-01-21</td>\n",
       "      <td>700</td>\n",
       "    </tr>\n",
       "  </tbody>\n",
       "</table>\n",
       "</div>"
      ],
      "text/plain": [
       "   id_klienta data_sprzedazy  sprzedaz\n",
       "0           1     2023-01-15       300\n",
       "1           2     2023-01-16       450\n",
       "2           3     2023-01-17       200\n",
       "3           4     2023-01-18       600\n",
       "4           5     2023-01-19       350\n",
       "5           7     2023-01-20       500\n",
       "6           8     2023-01-21       700"
      ]
     },
     "execution_count": 15,
     "metadata": {},
     "output_type": "execute_result"
    }
   ],
   "source": [
    "# Concat sprzedaży\n",
    "concat_result = pd.concat([transactions_df, additional_df], ignore_index=True)\n",
    "print(\"\\nConcat danych sprzedażowych:\")\n",
    "concat_result"
   ]
  }
 ],
 "metadata": {
  "kernelspec": {
   "display_name": "Python 3 (ipykernel)",
   "language": "python",
   "name": "python3"
  },
  "language_info": {
   "codemirror_mode": {
    "name": "ipython",
    "version": 3
   },
   "file_extension": ".py",
   "mimetype": "text/x-python",
   "name": "python",
   "nbconvert_exporter": "python",
   "pygments_lexer": "ipython3",
   "version": "3.12.4"
  }
 },
 "nbformat": 4,
 "nbformat_minor": 5
}
