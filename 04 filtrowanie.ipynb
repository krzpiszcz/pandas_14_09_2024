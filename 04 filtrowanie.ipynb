{
 "cells": [
  {
   "cell_type": "markdown",
   "id": "76c6b741-296e-4586-a1f1-b6b3fd869b55",
   "metadata": {},
   "source": [
    "#### Jak filtrować ramki?\n",
    "\n",
    "https://builtin.com/data-science/pandas-filter"
   ]
  },
  {
   "cell_type": "markdown",
   "id": "70b718f4-8e17-4815-b54f-18607860d36f",
   "metadata": {},
   "source": [
    "Filtrowanie danych jest jednym z krytycznych kroków w efektywnej analizie danych. W bibliotece pandas wyróżniamy 8 podstawowywch metod filtrowania."
   ]
  },
  {
   "cell_type": "markdown",
   "id": "51c0ded1-58db-4f54-9ca7-eb8b2093eb9d",
   "metadata": {},
   "source": [
    "1. Operatory porównania (comparison operators)\n",
    "2. Funckja `Isin`\n",
    "3. str accessor\n",
    "4. Operatory logiczne (logical operators)\n",
    "5. Zapytanie (query)\n",
    "6. nlargest and nsmallest\n",
    "7. `loc` i `iloc`"
   ]
  },
  {
   "cell_type": "code",
   "execution_count": null,
   "id": "1a47d398-792c-47e1-9818-8dc30e1aafa9",
   "metadata": {},
   "outputs": [],
   "source": [
    "import numpy as np\n",
    "import pandas as pd"
   ]
  },
  {
   "cell_type": "code",
   "execution_count": null,
   "id": "638ccfa1-495e-45ff-8d5b-b9fefe21ee5d",
   "metadata": {},
   "outputs": [],
   "source": [
    "df = pd.DataFrame({\n",
    "    'name': ['Jane', 'John', 'Ashley', 'Mike', 'Emily', 'Jack', 'Catlin'],\n",
    "    'ctg': ['A', 'A', 'C', 'B', 'B', 'C', 'B'],\n",
    "    'val': np.random.random(7).round(2),\n",
    "    'val2': np.random.randint(1, 10, size=7)\n",
    "})\n",
    "df"
   ]
  },
  {
   "cell_type": "markdown",
   "id": "a25699db-1440-44f8-8fa6-34476bcd387d",
   "metadata": {},
   "source": [
    "### 1. Operatory porównania"
   ]
  },
  {
   "cell_type": "code",
   "execution_count": null,
   "id": "307fc348-540f-499d-81b9-c28335231a3c",
   "metadata": {},
   "outputs": [],
   "source": [
    "df[ df.val > 0.5 ]"
   ]
  },
  {
   "cell_type": "markdown",
   "id": "95926cd7-b4ed-4591-8e6d-60295b0fdc86",
   "metadata": {},
   "source": [
    "Jak to działa ?"
   ]
  },
  {
   "cell_type": "markdown",
   "id": "42133fb0-be9b-4c53-93e9-ca5a3fd9ff37",
   "metadata": {},
   "source": [
    "#### Maskowanie"
   ]
  },
  {
   "cell_type": "markdown",
   "id": "a942b4c5-fd0b-4992-9be5-483c28e714a8",
   "metadata": {},
   "source": [
    "Ramki potrafią filtrować dane na podstawie wartości logicznych. Wyciągnijmy pierwsze dwa wiersze i przedostatni wiersz z ramki."
   ]
  },
  {
   "cell_type": "code",
   "execution_count": null,
   "id": "4157274d-795c-40a3-b491-74bdf60332c2",
   "metadata": {},
   "outputs": [],
   "source": [
    "..."
   ]
  },
  {
   "cell_type": "markdown",
   "id": "cd29801a-2308-4240-83e4-333e8529172b",
   "metadata": {},
   "source": [
    "Taki zestaw wartości logicznych w kontekście filtrowania danych nazywamy **maską**."
   ]
  },
  {
   "cell_type": "code",
   "execution_count": null,
   "id": "cd319c84-18a2-4320-9823-ba0126903606",
   "metadata": {},
   "outputs": [],
   "source": [
    "..."
   ]
  },
  {
   "cell_type": "markdown",
   "id": "5a906b7c-4c02-48cf-98de-2036e08a46a1",
   "metadata": {},
   "source": [
    "Maska może być listą lub serią."
   ]
  },
  {
   "cell_type": "code",
   "execution_count": null,
   "id": "c145df7c-950c-45e6-9ceb-b7fe9a9e00cf",
   "metadata": {},
   "outputs": [],
   "source": [
    "..."
   ]
  },
  {
   "cell_type": "markdown",
   "id": "99ccca24-aab7-463d-9439-e39ce638971b",
   "metadata": {},
   "source": [
    "#### Warunki logiczne z serią"
   ]
  },
  {
   "cell_type": "code",
   "execution_count": null,
   "id": "bbcef1e7-ba47-4f73-80f5-0e605c5ce1f9",
   "metadata": {},
   "outputs": [],
   "source": [
    "df.val"
   ]
  },
  {
   "cell_type": "markdown",
   "id": "faf7e172-4244-4bfe-b26a-aa5cfa543aa5",
   "metadata": {},
   "source": [
    "`df.val` to seria. Operator logiczny w działaniu na serie zwraca nową serię z wartościami logicznymi."
   ]
  },
  {
   "cell_type": "code",
   "execution_count": null,
   "id": "c4fa2f83-0e6c-4655-9758-a1a43c90d48d",
   "metadata": {},
   "outputs": [],
   "source": [
    "..."
   ]
  },
  {
   "cell_type": "markdown",
   "id": "d7d1edc2-117e-40f8-8961-aa0f98d31d9a",
   "metadata": {},
   "source": [
    "No ale przecież to jest gotowa maska. "
   ]
  },
  {
   "cell_type": "code",
   "execution_count": null,
   "id": "6503c51b-ddc2-4984-9236-713ea3209d16",
   "metadata": {},
   "outputs": [],
   "source": [
    "..."
   ]
  },
  {
   "cell_type": "code",
   "execution_count": null,
   "id": "cc768fa5-502d-4d00-8c9b-540658452916",
   "metadata": {},
   "outputs": [],
   "source": [
    "..."
   ]
  },
  {
   "cell_type": "markdown",
   "id": "9d8eaa29-a31d-4703-a39e-42217a3cae9b",
   "metadata": {},
   "source": [
    "W ten sposób działa filtrowanie za pomocą operatorów logicznych."
   ]
  },
  {
   "cell_type": "markdown",
   "id": "5c0ea65f-e1aa-4382-b485-4d22963a31d9",
   "metadata": {},
   "source": [
    "### 2. Metoda `isin`"
   ]
  },
  {
   "cell_type": "markdown",
   "id": "bb36437b-e95e-46f4-8509-4b8985067e94",
   "metadata": {},
   "source": [
    "Metoda `isin` serii pozwala na sprawdzenie, czy wartość znajduje się we wskazanej kolekcji wartości."
   ]
  },
  {
   "cell_type": "code",
   "execution_count": null,
   "id": "3abf9216-804a-4ed3-ac0a-e6ef39f288c8",
   "metadata": {},
   "outputs": [],
   "source": [
    "names = ['John', 'Catlin', 'Mike']"
   ]
  },
  {
   "cell_type": "code",
   "execution_count": null,
   "id": "7e9943fb-3399-4585-9064-151af11eedc1",
   "metadata": {},
   "outputs": [],
   "source": [
    "..."
   ]
  },
  {
   "cell_type": "markdown",
   "id": "d357a25d-4107-4d4a-8da0-c9ce69f1e4cb",
   "metadata": {},
   "source": [
    "Widzimy, że metoda zwraca serię, która idealnie nadaje się na maskę. Czyli:"
   ]
  },
  {
   "cell_type": "code",
   "execution_count": null,
   "id": "6bbb2876-51ad-47e3-b256-a9ab40fcc3cc",
   "metadata": {},
   "outputs": [],
   "source": [
    "..."
   ]
  },
  {
   "cell_type": "markdown",
   "id": "785e51ff-9c9b-4ee7-9bab-e5aaa7ff4f79",
   "metadata": {},
   "source": [
    "### 3. str accessor"
   ]
  },
  {
   "cell_type": "code",
   "execution_count": null,
   "id": "b0814237-e095-4b34-9e6d-ccac04897474",
   "metadata": {
    "scrolled": true
   },
   "outputs": [],
   "source": [
    "df.name.str?"
   ]
  },
  {
   "cell_type": "code",
   "execution_count": null,
   "id": "a65d9718-f3ff-4c85-a2a8-3f70230a9050",
   "metadata": {},
   "outputs": [],
   "source": [
    "type(df.name.str)"
   ]
  },
  {
   "cell_type": "markdown",
   "id": "5a4bb042-f847-4ba4-b869-f6b210e6d8d9",
   "metadata": {},
   "source": [
    "Klasa `StringMethods` posiada zestaw zwektoryzowanych metod do pracy z napisami."
   ]
  },
  {
   "cell_type": "code",
   "execution_count": null,
   "id": "9a2814e0-7b64-413b-931f-c6ddd05e67e3",
   "metadata": {},
   "outputs": [],
   "source": [
    "print(dir(df.name.str))"
   ]
  },
  {
   "cell_type": "markdown",
   "id": "1efaedb3-6314-4f70-a849-7bcf45cc1c04",
   "metadata": {},
   "source": [
    "Znamy te metody z podstawowej pracy na napisach w pythonie. Metody klasy `StringMethods` są ich zwektoryzowanymi odpowiednikami (czyt. działają na wszystkich elementach serii). Część z nich (te, które zwracają wartości logiczne) możemy wykorzystać do stworzenia maski."
   ]
  },
  {
   "cell_type": "code",
   "execution_count": null,
   "id": "d5976f32-d4b9-4416-8f56-75a297fdf7e9",
   "metadata": {},
   "outputs": [],
   "source": [
    "..."
   ]
  },
  {
   "cell_type": "code",
   "execution_count": null,
   "id": "48ff0e99-9690-4363-95f6-b7cf1de582ea",
   "metadata": {},
   "outputs": [],
   "source": [
    "..."
   ]
  },
  {
   "cell_type": "code",
   "execution_count": null,
   "id": "f6747674-1f44-437d-8a13-6b03dcc98a4c",
   "metadata": {},
   "outputs": [],
   "source": [
    "..."
   ]
  },
  {
   "cell_type": "markdown",
   "id": "3edcb35f-31e9-4743-8eb9-61dffd924421",
   "metadata": {},
   "source": [
    "### 4. Operatory logiczne"
   ]
  },
  {
   "cell_type": "markdown",
   "id": "958610f8-0f02-4892-80e1-35b564de71a5",
   "metadata": {},
   "source": [
    "Standoardowo, w połączeniu z operatorami porównania możemy użyć operatorów logicznych w postaci sumy, iloczynu i różnicy logicznej. W bibliotece Pandas posługujemy się odpowiednio operatorami:\n",
    "- `&` (and)\n",
    "- `|` (or)\n",
    "- `~` (not)\n",
    "\n",
    "Składowe warunki należy umieścić w nawiasach, w przeciwnym razie instrukcja nie zadziała."
   ]
  },
  {
   "cell_type": "markdown",
   "id": "fa102c07-aa20-45b4-8724-45b82dc24a27",
   "metadata": {},
   "source": [
    "##### AND (Iloczyn)"
   ]
  },
  {
   "cell_type": "code",
   "execution_count": null,
   "id": "300a5f20-679d-4e1b-a3ee-9063745ce414",
   "metadata": {},
   "outputs": [],
   "source": [
    "..."
   ]
  },
  {
   "cell_type": "code",
   "execution_count": null,
   "id": "838868f4-21f1-4cfe-a638-8b8947d0fc8c",
   "metadata": {},
   "outputs": [],
   "source": [
    "..."
   ]
  },
  {
   "cell_type": "markdown",
   "id": "2977d2ec-34f6-40b4-bfac-fd2c6f997027",
   "metadata": {},
   "source": [
    "##### OR (Suma)"
   ]
  },
  {
   "cell_type": "code",
   "execution_count": null,
   "id": "1ad1090d-6408-4f24-af2f-ef344f14b58a",
   "metadata": {},
   "outputs": [],
   "source": [
    "..."
   ]
  },
  {
   "cell_type": "code",
   "execution_count": null,
   "id": "c56b6c29-0af1-441a-ad22-73cb4eca9ee4",
   "metadata": {},
   "outputs": [],
   "source": [
    "..."
   ]
  },
  {
   "cell_type": "markdown",
   "id": "4bd11a3d-6cbe-4a4f-903f-2dcdf5cd609f",
   "metadata": {},
   "source": [
    "##### NOT (Negacja)"
   ]
  },
  {
   "cell_type": "code",
   "execution_count": null,
   "id": "cfcedb99-ed12-41a0-876c-65e0aab02181",
   "metadata": {},
   "outputs": [],
   "source": [
    "..."
   ]
  },
  {
   "cell_type": "code",
   "execution_count": null,
   "id": "d46a767b-5bbb-4370-9c3b-79e1ab198368",
   "metadata": {},
   "outputs": [],
   "source": [
    "..."
   ]
  },
  {
   "cell_type": "markdown",
   "id": "9fb5c6c0-fe71-4764-bb4a-150971abb8ab",
   "metadata": {},
   "source": [
    "### 5. Metoda `query` ramki"
   ]
  },
  {
   "cell_type": "markdown",
   "id": "0ab3ea61-9976-46f8-960d-1f70229013bd",
   "metadata": {},
   "source": [
    "Ramka posiada metodę `query`, która udostępnia nam trochę inny interfejs do odpytywania o dane. Zapytanie (warunek) przekazujemy do metody jako napis."
   ]
  },
  {
   "cell_type": "code",
   "execution_count": null,
   "id": "3a0dd44f-d282-40b7-b55b-03afcf43fe6f",
   "metadata": {},
   "outputs": [],
   "source": [
    "..."
   ]
  },
  {
   "cell_type": "code",
   "execution_count": null,
   "id": "56c6375e-0f12-418a-8ae6-4d420121f0cd",
   "metadata": {},
   "outputs": [],
   "source": [
    "..."
   ]
  },
  {
   "cell_type": "markdown",
   "id": "c710c3e1-6fb2-4c3a-a8e5-806689df1879",
   "metadata": {},
   "source": [
    "Metoda zwraca wynikową ramkę."
   ]
  },
  {
   "cell_type": "markdown",
   "id": "c88653be-f117-4333-a28c-7a962cdfc984",
   "metadata": {},
   "source": [
    "Więcej o metodzie można przeczytać w dokumentacji."
   ]
  },
  {
   "cell_type": "code",
   "execution_count": null,
   "id": "b5d95f66-b87e-43a5-bbf6-b45c98d43f1f",
   "metadata": {
    "scrolled": true
   },
   "outputs": [],
   "source": [
    "df.query?"
   ]
  },
  {
   "cell_type": "markdown",
   "id": "966a2206-6ba3-4ce4-a656-4bd4a043cb8f",
   "metadata": {},
   "source": [
    "### 6. Metody `nlargest` i `nsmallest` "
   ]
  },
  {
   "cell_type": "markdown",
   "id": "d405ed5b-8a80-4236-89e0-2c5a4223320c",
   "metadata": {},
   "source": [
    "Jeżeli chcemy wyciągnąć n największych lub najmniejszych wierszy z wybranej kolumny możemy użyć metod `nlargets` lub `nsmallest` serii (lub ramki)."
   ]
  },
  {
   "cell_type": "code",
   "execution_count": null,
   "id": "f6a1d97e-e3b6-44a6-b6a5-22b2f5abd897",
   "metadata": {},
   "outputs": [],
   "source": [
    "..."
   ]
  },
  {
   "cell_type": "code",
   "execution_count": null,
   "id": "9a059db5-5054-41b9-b041-23ebf1e8c574",
   "metadata": {},
   "outputs": [],
   "source": [
    "..."
   ]
  },
  {
   "cell_type": "code",
   "execution_count": null,
   "id": "e7c4e972-089c-424d-9ef7-b92fcdc7fc12",
   "metadata": {},
   "outputs": [],
   "source": [
    "..."
   ]
  },
  {
   "cell_type": "markdown",
   "id": "2a0aa52e-cfdf-4572-9aa1-0f0392a5d75c",
   "metadata": {},
   "source": [
    "Ale uwaga, te metody działa wyłącznie na typach numerycznych."
   ]
  },
  {
   "cell_type": "code",
   "execution_count": null,
   "id": "b87e1962-fe80-4ae2-9a36-0039ecbf2af3",
   "metadata": {
    "scrolled": true
   },
   "outputs": [],
   "source": [
    "..."
   ]
  },
  {
   "cell_type": "markdown",
   "id": "6c4af22c-b220-4adb-868e-58496a072b99",
   "metadata": {},
   "source": [
    "### Metody `loc` i `iloc`"
   ]
  },
  {
   "cell_type": "markdown",
   "id": "d14e7a32-6ea7-4fe7-a576-8a44a33e10f8",
   "metadata": {},
   "source": [
    "Metody `loc` i `iloc` są używane filtrowania wierszy lub kolumn na podstawie indeksu lub pozycji."
   ]
  },
  {
   "cell_type": "markdown",
   "id": "f03675c6-2883-4f35-abd6-6ce146668cb3",
   "metadata": {},
   "source": [
    "- `loc` - metoda służąca do filtrowania wierszy lub kolumn na podstawie indeksu (etykiety)\n",
    "- `iloc` - metoda służąca do filtrowania wierszy lub kolumn na podstawie indeksu (pozycji)"
   ]
  },
  {
   "cell_type": "markdown",
   "id": "a6a015b8-6456-4a0d-ae06-cd0bde834afb",
   "metadata": {},
   "source": [
    "Na ten moment indeks naszej ramki ma wartość numeryczną i odpowiada pozycji wiersza w ramce. Zróbmy update indeksu, żeby widać było różnicę w stosowaniu metod `loc` i `iloc`."
   ]
  },
  {
   "cell_type": "code",
   "execution_count": null,
   "id": "d5ced5a3-1f12-4bb5-bcdb-9212a924fa8d",
   "metadata": {},
   "outputs": [],
   "source": [
    "df"
   ]
  },
  {
   "cell_type": "code",
   "execution_count": null,
   "id": "ead38723-d6ee-4c8c-85b6-5feb3b6a23c5",
   "metadata": {},
   "outputs": [],
   "source": [
    "..."
   ]
  },
  {
   "cell_type": "markdown",
   "id": "13ca8d15-f95c-4e4b-ab85-66ef72a03a42",
   "metadata": {},
   "source": [
    "##### `iloc` - wskazywanie po pozycji"
   ]
  },
  {
   "cell_type": "code",
   "execution_count": null,
   "id": "93ad6a16-7247-40bf-91a5-943040a60039",
   "metadata": {},
   "outputs": [],
   "source": [
    "# czwarty wiersz (indeks 3)\n",
    "..."
   ]
  },
  {
   "cell_type": "code",
   "execution_count": null,
   "id": "7df10d3b-c059-404c-9d7a-467a257b734e",
   "metadata": {},
   "outputs": [],
   "source": [
    "# wiersze od czwartego do szóstego (bez szóstego)\n",
    "..."
   ]
  },
  {
   "cell_type": "code",
   "execution_count": null,
   "id": "851424be-74e8-4f45-9921-2f27e09ee424",
   "metadata": {},
   "outputs": [],
   "source": [
    "# wiersze od czwartego do szóstego, pierwsza kolumna\n",
    "..."
   ]
  },
  {
   "cell_type": "code",
   "execution_count": null,
   "id": "8ef06309-e6e3-422f-a037-d5aa99cf45c0",
   "metadata": {},
   "outputs": [],
   "source": [
    "# wiersze od czwartego do szóstego, kolumna od pierwszej do trzeciej\n",
    "..."
   ]
  },
  {
   "cell_type": "code",
   "execution_count": null,
   "id": "dc90fddd-5f78-4eef-bbed-53e6452a1a4b",
   "metadata": {},
   "outputs": [],
   "source": [
    "# wierze od czwartego do szóstego, wszystkie kolumny\n",
    "..."
   ]
  },
  {
   "cell_type": "markdown",
   "id": "eb939f06-59d6-4d8f-b309-e7052eefce01",
   "metadata": {},
   "source": [
    "##### `loc` - wskazywanie po etykiecie"
   ]
  },
  {
   "cell_type": "markdown",
   "id": "a6954e49-ad0b-4714-896f-93d42e4faf63",
   "metadata": {},
   "source": [
    "Zróbmy dokładnie to samo, ale tym razem wykorzystując etykiety w miejsce pozycji."
   ]
  },
  {
   "cell_type": "code",
   "execution_count": null,
   "id": "71a3135a-62b6-40a0-9df0-3f7c2496f28d",
   "metadata": {},
   "outputs": [],
   "source": [
    "# wiersz o etycike 'd' (czwarty wiersz) \n",
    "..."
   ]
  },
  {
   "cell_type": "code",
   "execution_count": null,
   "id": "32c1d244-2463-4511-aa9f-cd6754ca0887",
   "metadata": {},
   "outputs": [],
   "source": [
    "# wiersze od 'd' do 'f' (od czwartego do szóstego) UWAGA! tutaj z 'f' podczas gdy przy \n",
    "# wykorzystaniu pozycji przedział jest prawostronnie otwarty.\n",
    "..."
   ]
  },
  {
   "cell_type": "code",
   "execution_count": null,
   "id": "837931cd-95b4-46b2-944f-2d277e5baad7",
   "metadata": {},
   "outputs": [],
   "source": [
    "# wiersze od 'd' do 'f' (od czwartego do szóstego), kolumna name (pierwsza kolumna)\n",
    "..."
   ]
  },
  {
   "cell_type": "code",
   "execution_count": null,
   "id": "3545d26c-b794-4168-b7c4-1811899e6182",
   "metadata": {},
   "outputs": [],
   "source": [
    "# wiersze od 'd' do 'f', kolumna od name do val (od pierwszej do trzeciej)\n",
    "# UWAGA! Tutaj znów, przy wskazywaniu etykiet przedział jest obustronnie domknięty.\n",
    "..."
   ]
  },
  {
   "cell_type": "code",
   "execution_count": null,
   "id": "f5eb16b6-13c3-4cab-942f-4112e83198e7",
   "metadata": {},
   "outputs": [],
   "source": [
    "# wiersze od 'd' do 'f', wszystkie kolumny\n",
    "..."
   ]
  }
 ],
 "metadata": {
  "kernelspec": {
   "display_name": "Python 3 (ipykernel)",
   "language": "python",
   "name": "python3"
  },
  "language_info": {
   "codemirror_mode": {
    "name": "ipython",
    "version": 3
   },
   "file_extension": ".py",
   "mimetype": "text/x-python",
   "name": "python",
   "nbconvert_exporter": "python",
   "pygments_lexer": "ipython3",
   "version": "3.12.4"
  }
 },
 "nbformat": 4,
 "nbformat_minor": 5
}
