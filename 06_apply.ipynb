{
 "cells": [
  {
   "cell_type": "markdown",
   "id": "c21714f9-8b93-405a-a71f-51126f22b394",
   "metadata": {},
   "source": [
    "### Metoda `apply`"
   ]
  },
  {
   "cell_type": "markdown",
   "id": "3093b084-349d-48fb-be4d-314b1f3b76a4",
   "metadata": {},
   "source": [
    "Metoda apply jest często używaną metodą, która upraszcza stosowanie dowolnej funkcji na każdym elemencie serii oraz na każdej kolumnie lub wierszu ramki.\n",
    "\n",
    "Bardzo poglądowo mówiąc, możemy powiedzieć, że \"wektoryzuje\" wskazaną przez nas funkcję. Poglądowo, ponieważ nie pociąga to za sobą zwiększenia wydajności obliczeniowej, charakterystycznego dla operacji zwektoryzowanych. Ale sam mechanizm działania wygląda tak, jakbyśmy zastosowali wskazaną funkcję na wszystkich elementach kolekcji. "
   ]
  },
  {
   "cell_type": "markdown",
   "id": "c733eb05-7173-42cb-962b-0a9abef1a506",
   "metadata": {},
   "source": [
    "#### Seria"
   ]
  },
  {
   "cell_type": "markdown",
   "id": "8d85de53-0739-4637-95f0-3faa94f00a24",
   "metadata": {},
   "source": [
    "Stwórzmy przykładową serię zawierającą imiona studentów i ich wzrost w cm."
   ]
  },
  {
   "cell_type": "code",
   "execution_count": null,
   "id": "4bab00c9-1f1c-4703-bbc4-e98ffe52d20d",
   "metadata": {},
   "outputs": [],
   "source": [
    "import pandas as pd\n",
    "import numpy as np\n",
    "\n",
    "\n",
    "students = pd.Series(\n",
    "    data=[180, 175, 168, 190],\n",
    "    index=['Vik', 'Mehdi', 'Bella', 'Chriss']\n",
    ")\n",
    "students"
   ]
  },
  {
   "cell_type": "markdown",
   "id": "d62e8a46-7bda-45cc-8794-a44b1f05dc80",
   "metadata": {},
   "source": [
    "Teraz napiszmy funkcję, która przelicza centymetry na stopy."
   ]
  },
  {
   "cell_type": "code",
   "execution_count": null,
   "id": "98fc3d50-0f2c-4719-9ae8-581c6b31c190",
   "metadata": {},
   "outputs": [],
   "source": [
    "..."
   ]
  },
  {
   "cell_type": "markdown",
   "id": "49703ffb-9bc1-43c3-95df-1e46dab0da75",
   "metadata": {},
   "source": [
    "Sprawdźmy jej działanie."
   ]
  },
  {
   "cell_type": "code",
   "execution_count": null,
   "id": "9b5a4f60-b965-413a-9c2d-b8a41c02c2cd",
   "metadata": {},
   "outputs": [],
   "source": [
    "..."
   ]
  },
  {
   "cell_type": "markdown",
   "id": "6c8fc75a-faa2-48fb-b2c1-fbb87b4a2d44",
   "metadata": {},
   "source": [
    "Jeżeli spróbujemy teraz zastosować naszą funkcję na serii zadziała, ale tylko dzięki temu, że wszystkie operacje które wykorzystujemy w naszej funkcji ma swoje zwektoryzowane odpowiedniki dla ramki."
   ]
  },
  {
   "cell_type": "code",
   "execution_count": null,
   "id": "9a598bcf-92ab-4eb7-a4b0-2565143da02a",
   "metadata": {},
   "outputs": [],
   "source": [
    "..."
   ]
  },
  {
   "cell_type": "markdown",
   "id": "8f29bdc0-a8b2-4814-93db-406427d239eb",
   "metadata": {},
   "source": [
    "Wystarczy jednak użyć w naszej funkcji cokolwiek, co nie będzie obsługiwane przez ramkę (a przez float będzie), żeby nasza funkcja przestała działać na ramkach."
   ]
  },
  {
   "cell_type": "code",
   "execution_count": null,
   "id": "6dbbc845-3a56-4cd1-861d-2df68fda2794",
   "metadata": {},
   "outputs": [],
   "source": [
    "..."
   ]
  },
  {
   "cell_type": "code",
   "execution_count": null,
   "id": "323a503b-b30c-412c-b546-169b397942ef",
   "metadata": {},
   "outputs": [],
   "source": [
    "..."
   ]
  },
  {
   "cell_type": "code",
   "execution_count": null,
   "id": "76f9af22-614d-4d89-8bc3-7a8fa1f60343",
   "metadata": {
    "scrolled": true
   },
   "outputs": [],
   "source": [
    "..."
   ]
  },
  {
   "cell_type": "markdown",
   "id": "cae06577-ae37-41e1-a736-51ad7ed48648",
   "metadata": {},
   "source": [
    "W obecnej postaci nasza funkcja działa na floatach (zgodnie z zamierzeniem), ale nie działa na serii, ponieważ serie nie potrafią porównywać się z `np.nan`."
   ]
  },
  {
   "cell_type": "markdown",
   "id": "2a73b467-2146-4dcb-a51d-c4b81f295122",
   "metadata": {},
   "source": [
    "Gdybyśmy jednak zastosowali naszą funkcję na poszczególnych elementach serii to ten problem by nas nie dotyczył (ponieważ w funkcji będą lądowały poszczególne elementy serii, które są floatami)."
   ]
  },
  {
   "cell_type": "markdown",
   "id": "1fa67c97-b7d9-4e68-bfb2-b113b9c41129",
   "metadata": {},
   "source": [
    "Moglibyśmy to zrobić w pętli iterując po wszystkich elementach serii i przykładając naszę funkcję do każdego z elementów. Albo możemy użyć funkcji `apply`, która zrobi to za nas."
   ]
  },
  {
   "cell_type": "code",
   "execution_count": null,
   "id": "fac6472b-8d49-4bd4-bd32-52c7b33ad2d2",
   "metadata": {},
   "outputs": [],
   "source": [
    "..."
   ]
  },
  {
   "cell_type": "markdown",
   "id": "5891dfd1-8980-4985-bfd4-b04d5a16cda5",
   "metadata": {},
   "source": [
    "#### Ramka"
   ]
  },
  {
   "cell_type": "markdown",
   "id": "ee4e55e7-4daa-42d1-b317-f833052d5d1e",
   "metadata": {},
   "source": [
    "A jak używać metody `apply` do przetwarzania kolumn i wierszy w ramce ?"
   ]
  },
  {
   "cell_type": "markdown",
   "id": "6c3c0286-0b4d-49a3-9a5b-a0c713a18078",
   "metadata": {},
   "source": [
    "Na potrzeby prezentacji stwórzmy przykładową ramkę zawierającą dane pracowników fikcyjnej firmy."
   ]
  },
  {
   "cell_type": "code",
   "execution_count": null,
   "id": "1da0e3f2-08c9-4b51-9d3e-5d25d7a98ea2",
   "metadata": {},
   "outputs": [],
   "source": [
    "data = pd.DataFrame({\n",
    "    'EmployeeName': ['Callen Dunkley', 'Sarah Rayner', 'Jeanette Sloan', 'Kaycee Acosta', 'Henri Conroy', 'Emma Peralta', 'Martin Butt', 'Alex Jensen', 'Kim Howarth', 'Jane Burnett'],\n",
    "    'Department': ['Accounting', 'Engineering', 'Engineering', 'HR', 'HR', 'HR', 'Data Science', 'Data Science', 'Accounting', 'Data Science'],\n",
    "    'HireDate': [2010, 2018, 2012, 2014, 2014, 2018, 2020, 2018, 2020, 2012],\n",
    "    'Sex': ['M', 'F', 'F', 'F', 'M', 'F', 'M', 'M', 'M', 'F'],\n",
    "    'Birthdate': ['04/09/1982', '14/04/1981', '06/05/1997', '08/01/1986', '10/10/1988', '12/11/1992', '10/04/1991', '16/07/1995', '08/10/1992', '11/10/1979'],\n",
    "    'Weight': [78, 80, 66, 67, 90, 57, 115, 87, 95, 57],\n",
    "    'Height': [176, 160, 169, 157, 185, 164, 195, 180, 174, 165],\n",
    "    'Kids': [2, 1, 0, 1, 1, 0, 2, 0, 3, 1]\n",
    "})\n",
    "data"
   ]
  },
  {
   "cell_type": "markdown",
   "id": "7009760a-9749-4491-9370-d40bb72d5ef1",
   "metadata": {},
   "source": [
    "##### Funkcja `apply` w działaniu na kolumnę ramki."
   ]
  },
  {
   "cell_type": "markdown",
   "id": "2e0a7edc-f494-4f2c-8b5f-2d94f27533a5",
   "metadata": {},
   "source": [
    "Przejdźmy przez kilka scenariuszy"
   ]
  },
  {
   "cell_type": "markdown",
   "id": "fb4d4400-f8f8-46ec-aa9b-f962686f452e",
   "metadata": {},
   "source": [
    "**Scenariusz I**"
   ]
  },
  {
   "cell_type": "markdown",
   "id": "0b431180-a489-4bec-bd21-e2891d37f61c",
   "metadata": {},
   "source": [
    "Załóżmy, że zespół HR chce wysłać zaproszenie e-mail, które zaczyna się od przyjaznego powitania dla wszystkich pracowników (np. Hej, Sarah!). Poprosili nas o utworzenie dwóch kolumn do przechowywania imion i nazwisk pracowników osobno, co ułatwi odwoływanie się do imion pracowników. W tym celu możemy użyć funkcji lambda, która podzieli ciąg na listę po rozdzieleniu go za pomocą określonego separatora."
   ]
  },
  {
   "cell_type": "code",
   "execution_count": null,
   "id": "bf72b27d-b723-477c-b205-4ac3a13e7a72",
   "metadata": {
    "scrolled": true
   },
   "outputs": [],
   "source": [
    "# Zwróć uwagę! Metoda `apply` jest wykonywana na serii i to seria jest przekazywana\n",
    "# do funkcji wewnętrznej\n",
    "..."
   ]
  },
  {
   "cell_type": "markdown",
   "id": "055c4ac7-6af9-42f3-b424-4d46ae91dfec",
   "metadata": {},
   "source": [
    "**Scenariusz II**"
   ]
  },
  {
   "cell_type": "markdown",
   "id": "5ac35505-ae81-4d84-9824-d0c87b8ace79",
   "metadata": {},
   "source": [
    "Załóżmy teraz, że zespół HR chce znać wiek każdego pracownika oraz średni wiek pracowników, ponieważ chcą ustalić, czy wiek pracownika wpływa na zadowolenie z pracy i zaangażowanie w pracę.\n",
    "\n",
    "Aby to zrobić, pierwszym krokiem jest zdefiniowanie funkcji, która pobiera datę urodzenia pracownika i zwraca jego wiek:"
   ]
  },
  {
   "cell_type": "code",
   "execution_count": null,
   "id": "2a5818fe-4edf-45b6-ad44-550bdac78e24",
   "metadata": {},
   "outputs": [],
   "source": [
    "from datetime import datetime, date\n",
    "\n",
    "..."
   ]
  },
  {
   "cell_type": "code",
   "execution_count": null,
   "id": "e3539d95-318a-4ac3-a2c5-8d4291424b00",
   "metadata": {},
   "outputs": [],
   "source": [
    "..."
   ]
  },
  {
   "cell_type": "markdown",
   "id": "982c4b71-b7cb-42c4-8a8e-841eecb5ac72",
   "metadata": {},
   "source": [
    "I teraz możemy zastosować funkcję `calculate_age` na kolumnie `Birthdate` ramki za pomocą metody `apply`."
   ]
  },
  {
   "cell_type": "code",
   "execution_count": null,
   "id": "5b03a44f-8f78-4c86-bdf5-de08e815475b",
   "metadata": {},
   "outputs": [],
   "source": [
    "# Zwróć uwagę! Znów metoda `apply` jest wykonywana na rzecz serii.\n",
    "..."
   ]
  },
  {
   "cell_type": "markdown",
   "id": "5ed6713f-aa64-42ff-88d2-01b8b5f7a9b9",
   "metadata": {},
   "source": [
    "Teraz łatwo możemy policzyć średni wiek pracowników."
   ]
  },
  {
   "cell_type": "code",
   "execution_count": null,
   "id": "b89db6f4-6dd6-49a0-a17a-404d399d53ec",
   "metadata": {},
   "outputs": [],
   "source": [
    "..."
   ]
  },
  {
   "cell_type": "markdown",
   "id": "dd4f0039-f743-4d01-96f3-adba78da7a19",
   "metadata": {},
   "source": [
    "**Scenariusz III**"
   ]
  },
  {
   "cell_type": "markdown",
   "id": "603d7505-dfc6-49e6-8149-513222f98f69",
   "metadata": {},
   "source": [
    "Kierownik HR w firmie bada opcje ubezpieczenia zdrowotnego dla wszystkich pracowników. Potencjalni dostawcy wymagają informacji o pracownikach. Żałóżmy, że kierownik HR poprosił cię o obliczenie wskaźnika masy ciała (BMI) dla każdego pracownika, aby mogła uzyskać oferty od potencjalnych dostawców usług zdrowotnych.\n",
    "\n",
    "Aby wykonać to zadanie, najpierw musimy zdefiniować funkcję, która oblicza wskaźnik masy ciała (BMI). Wzór na BMI to waga w kilogramach podzielona przez wzrost w metrach do kwadratu. Ponieważ wzrost pracowników jest mierzony w centymetrach, musimy podzielić wzrost przez 100, aby uzyskać wzrost w metrach."
   ]
  },
  {
   "cell_type": "code",
   "execution_count": null,
   "id": "6c44ed8b-7a63-44f9-8916-61474c761cc5",
   "metadata": {},
   "outputs": [],
   "source": [
    "..."
   ]
  },
  {
   "cell_type": "markdown",
   "id": "b34ef33e-8bb0-45c0-8a78-d5dece656b77",
   "metadata": {},
   "source": [
    "Zastosujmy naszą funkcję na poszczególnych pracownikach."
   ]
  },
  {
   "cell_type": "code",
   "execution_count": null,
   "id": "1ccf0ea3-8466-4209-a5a2-aba5139b0574",
   "metadata": {},
   "outputs": [],
   "source": [
    "# Zwróć uwagę, tym razem metoda `apply` wykonywana jest na rzecz całej ramki \n",
    "# argument axis=1 powoduje, że do funkcji wewnętrznej przekazywane są kolejne\n",
    "# wiersze ramki, gdyby przekazano axis=0 do funkcji wewnętrznej przekazywane\n",
    "# byłyby kolejne kolumny ramki.\n",
    "# i dlatego to cała ramka przekazywana jest do funkcji wewnętrznej.\n",
    "..."
   ]
  },
  {
   "cell_type": "markdown",
   "id": "8ba381fb-7e6b-4996-8028-39109dc694cd",
   "metadata": {},
   "source": [
    "Funkcja lambda pobiera wartości wagi i wzrostu z każdego wiersza, a następnie stosuje funkcję `calc_bmi`, aby obliczyć dla nich wskaźnik masy ciała (BMI). Argument `axis=1` oznacza, że metoda `apply` iteruje po wierszach ramki."
   ]
  },
  {
   "cell_type": "markdown",
   "id": "b01e6004-4185-4bd3-935b-268e4ac5a4e2",
   "metadata": {},
   "source": [
    "Ostatnim krokiem jest zaklasyfikowanie pracowników według pomiaru BMI. BMI poniżej 18,5 to *Group One*, od 18,5 do 24,9 to *Group Two*, od 25 do 29,9 to *Group Three*, a powyżej 30 to *Group Four*."
   ]
  },
  {
   "cell_type": "code",
   "execution_count": null,
   "id": "baa0b6a1-4b53-45e4-95c1-6fe68f261348",
   "metadata": {},
   "outputs": [],
   "source": [
    "..."
   ]
  },
  {
   "cell_type": "code",
   "execution_count": null,
   "id": "2f38ba70-4b04-4db8-8a52-10443c2154d6",
   "metadata": {},
   "outputs": [],
   "source": [
    "# Zwróć uwagę! Metoda apply jest tutaj stosowana na serii.\n",
    "..."
   ]
  },
  {
   "cell_type": "markdown",
   "id": "82736217-e168-425c-b861-bdbec4496dc1",
   "metadata": {},
   "source": [
    "#### Scenatiusz IV"
   ]
  },
  {
   "cell_type": "markdown",
   "id": "1a0a2aa7-9d9f-4f41-a384-5d393def9a68",
   "metadata": {},
   "source": [
    "Załóżmy, że nowy rok zbliża się wielkimi krokami, a zarząd firmy ogłosił, że pracownicy z ponad dziesięcioletnim doświadczeniem otrzymają dodatkowy bonus. Kierownik HR chce wiedzieć, kto kwalifikuje się do otrzymania bonusu."
   ]
  },
  {
   "cell_type": "code",
   "execution_count": null,
   "id": "1d15fdd8-87df-4447-8b4a-04d356da3364",
   "metadata": {},
   "outputs": [],
   "source": [
    "..."
   ]
  },
  {
   "cell_type": "code",
   "execution_count": null,
   "id": "2f475495-8466-43d7-a740-1219427398e3",
   "metadata": {},
   "outputs": [],
   "source": [
    "..."
   ]
  },
  {
   "cell_type": "markdown",
   "id": "b61d8b1a-c00a-4ec0-8350-19a51a190fdb",
   "metadata": {},
   "source": [
    "Ale tutaj uwaga! Chociaż przykład dobrze prezentuje użycie metody `apply`, to w tym przypadku znacznie bardziej wydajnym obliczeniowo i właściwym podejściem jest zastosowanie zwykłego filtrowania. Ze względów wydajnościowych jeżeli można gdzieś zastąpić metodę apply indeksowaniem/filtrowaniem to należy to zrobić. "
   ]
  },
  {
   "cell_type": "code",
   "execution_count": null,
   "id": "70e38797-678c-4fcf-b74e-67eb3a6395dd",
   "metadata": {},
   "outputs": [],
   "source": [
    "..."
   ]
  }
 ],
 "metadata": {
  "kernelspec": {
   "display_name": "Python 3 (ipykernel)",
   "language": "python",
   "name": "python3"
  },
  "language_info": {
   "codemirror_mode": {
    "name": "ipython",
    "version": 3
   },
   "file_extension": ".py",
   "mimetype": "text/x-python",
   "name": "python",
   "nbconvert_exporter": "python",
   "pygments_lexer": "ipython3",
   "version": "3.12.4"
  }
 },
 "nbformat": 4,
 "nbformat_minor": 5
}
