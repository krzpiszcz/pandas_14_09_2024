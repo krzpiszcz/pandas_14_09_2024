{
 "cells": [
  {
   "cell_type": "markdown",
   "id": "f4710043-4213-4ee8-8e25-23c7ec89dac1",
   "metadata": {},
   "source": [
    "### Grupowanie"
   ]
  },
  {
   "cell_type": "markdown",
   "id": "147ab983-e05c-4d7e-8ff0-492e01e42b3b",
   "metadata": {},
   "source": [
    "[pandas GroupBy: Your Guide to Grouping Data in Python](https://realpython.com/pandas-groupby/)"
   ]
  },
  {
   "cell_type": "markdown",
   "id": "a544b6f3-a119-4188-9bb3-bbee95fa64f8",
   "metadata": {},
   "source": [
    "https://github.com/unitedstates/congress-legislators - Zbiór danych Kongresu USA zawiera publiczne informacje o historycznych członkach Kongresu."
   ]
  },
  {
   "cell_type": "markdown",
   "id": "ed43cd4d-5afa-4b60-bccc-7903dd215079",
   "metadata": {},
   "source": [
    "Wczytajmy dane"
   ]
  },
  {
   "cell_type": "code",
   "execution_count": null,
   "id": "81000137-844f-499c-80f8-a164c888a4c2",
   "metadata": {},
   "outputs": [],
   "source": [
    "# pandas_legislators.py\n",
    "import pandas as pd\n",
    "..."
   ]
  },
  {
   "cell_type": "code",
   "execution_count": null,
   "id": "4831eae1-171c-43e9-97a1-2f32b6a1c432",
   "metadata": {},
   "outputs": [],
   "source": [
    "..."
   ]
  },
  {
   "cell_type": "code",
   "execution_count": null,
   "id": "6af2e037-176d-4b48-b44c-51e64ae8ba58",
   "metadata": {},
   "outputs": [],
   "source": [
    "..."
   ]
  },
  {
   "cell_type": "markdown",
   "id": "fbc86f3e-e9ca-477b-9d54-50669844c618",
   "metadata": {},
   "source": [
    "Spróbujmy teraz podziałać z grupowaniem."
   ]
  },
  {
   "cell_type": "markdown",
   "id": "46d7c459-40f1-417a-bfc2-672a2cdd0a9e",
   "metadata": {},
   "source": [
    "Ilu jest w zbiorze kongresmenów w poszczególnych stanach. Tego typu zapytanie w języku sql mogłoby mieć postać: <pre><code>SELECT state, count(name)\n",
    "FROM df\n",
    "GROUP BY state\n",
    "ORDER BY state;\n",
    "</code></pre>"
   ]
  },
  {
   "cell_type": "markdown",
   "id": "f680846c-b93b-4ab5-bdb3-749ebf9bc45f",
   "metadata": {},
   "source": [
    "A jak to będzie wyglądało w pandas?"
   ]
  },
  {
   "cell_type": "markdown",
   "id": "da0e5fac-115f-4a27-ba89-a4e9d4bc0110",
   "metadata": {},
   "source": [
    "Klauzula `groupby` stworzy worki, po jednym worku na każdy stan."
   ]
  },
  {
   "cell_type": "code",
   "execution_count": null,
   "id": "711a661d-1d4e-4f9e-857a-383dff88ccb5",
   "metadata": {},
   "outputs": [],
   "source": [
    "..."
   ]
  },
  {
   "cell_type": "markdown",
   "id": "c3770bc0-2a03-4782-9a02-cc26c6d2a8a9",
   "metadata": {},
   "source": [
    "Na workach możemy wykonywać jakieś statystyki (tzw. funkcje agregujące), np. możemy zliczyć ile jest niepustych wpisów w każdym z worków za pomocą funkcji `count`."
   ]
  },
  {
   "cell_type": "code",
   "execution_count": null,
   "id": "e69774cf-9f38-456e-b98a-25709dd90cf8",
   "metadata": {
    "scrolled": true
   },
   "outputs": [],
   "source": [
    "..."
   ]
  },
  {
   "cell_type": "markdown",
   "id": "3a9de681-310b-458c-98e0-27e0b030993e",
   "metadata": {},
   "source": [
    "albo ile jest niepustych wpisów dla wybranej kolumny (gdybyśmy chcieli uwzględnić również wpisy z pustymi wartościami należałoby zamiast metody `count` użyć metody `size`)."
   ]
  },
  {
   "cell_type": "code",
   "execution_count": null,
   "id": "43441eaf-a197-4529-b9de-bd074e735ef7",
   "metadata": {
    "scrolled": true
   },
   "outputs": [],
   "source": [
    "..."
   ]
  },
  {
   "cell_type": "markdown",
   "id": "c28a7f95-99b5-4649-a19d-71cbaf4cc9e3",
   "metadata": {},
   "source": [
    "10 pierwszych wpisów"
   ]
  },
  {
   "cell_type": "code",
   "execution_count": null,
   "id": "369a07dc-ed4c-41d9-a432-8a852bd6c425",
   "metadata": {},
   "outputs": [],
   "source": [
    "..."
   ]
  },
  {
   "cell_type": "markdown",
   "id": "b74b7ea6-d16f-4f79-8f45-3b4225de2760",
   "metadata": {},
   "source": [
    "Możemy grupować po kilku kolumnach. Każdy kolejny poziom grupowania oznacza stworzenie worków wewnątrz innych worków. Możemy na przykład wewnątrz naszych worków dla poszczególnych stanów potworzyć worki na płeć. I na takich \"podworkach\" wyliczyć jakieś statystyki."
   ]
  },
  {
   "cell_type": "markdown",
   "id": "ad963f9b-9a2f-4886-965f-e1cc28ae8769",
   "metadata": {},
   "source": [
    "Ile było kobiet i mężczyzn kongresmenów w poszczególnych stanach."
   ]
  },
  {
   "cell_type": "markdown",
   "id": "76e8a609-8e48-49cd-bcb8-3917d9b99329",
   "metadata": {},
   "source": [
    "Zapytanie sql miałoby postać: <pre><code>SELECT state, gender, count(name)\n",
    "FROM df\n",
    "GROUP BY state, gender\n",
    "ORDER BY state, gender;</code></pre>"
   ]
  },
  {
   "cell_type": "markdown",
   "id": "9c52b0a3-305a-4245-80c6-9ebeecf44aef",
   "metadata": {},
   "source": [
    "Zapytanie pandas:"
   ]
  },
  {
   "cell_type": "code",
   "execution_count": null,
   "id": "ad30067a-9b8f-4897-9e20-d42f8e1984b3",
   "metadata": {},
   "outputs": [],
   "source": [
    "..."
   ]
  },
  {
   "cell_type": "markdown",
   "id": "98e8acf5-aaf2-493a-9be0-16d58bb65c85",
   "metadata": {},
   "source": [
    "Metoda `groupby` biblioteki pandas i klauzula `GROUP BY` języka sql są podobne, ale nie identyczne. Jedną z ważniejszych różnic pomiędzy nimi jest postać zwracanego wyniku. Podczas gdy klauzula `GROUP BY` zwraca result set, metoda `groupby` zwraca serię (w przypadku więcej niż jeden poziom worków metoda zwraca serię z wielokrotnym indeksem)."
   ]
  },
  {
   "cell_type": "code",
   "execution_count": null,
   "id": "b4417231-1132-491e-a232-892e794b8a02",
   "metadata": {},
   "outputs": [],
   "source": [
    "..."
   ]
  },
  {
   "cell_type": "code",
   "execution_count": null,
   "id": "7a4a9afc-f314-4273-bedb-f65caaa5d6ae",
   "metadata": {},
   "outputs": [],
   "source": [
    "..."
   ]
  },
  {
   "cell_type": "code",
   "execution_count": null,
   "id": "b9416f7d-3354-44b7-90fc-347d24c98665",
   "metadata": {},
   "outputs": [],
   "source": [
    "..."
   ]
  },
  {
   "cell_type": "code",
   "execution_count": null,
   "id": "5ad00629-6ec9-4a0f-b042-d18cc9cb0e6d",
   "metadata": {},
   "outputs": [],
   "source": [
    "res.index"
   ]
  },
  {
   "cell_type": "markdown",
   "id": "3989a333-2d3a-4ce9-ae8b-62a8a4b945df",
   "metadata": {},
   "source": [
    "Możemy zapobiec tworzeniu wielokrotnego indeksu za pomocą parametru `as_index`."
   ]
  },
  {
   "cell_type": "code",
   "execution_count": null,
   "id": "1a975444-ce23-463b-a810-fe2605b0612e",
   "metadata": {},
   "outputs": [],
   "source": [
    "..."
   ]
  },
  {
   "cell_type": "markdown",
   "id": "7435af4f-ea66-4e7e-bf94-7d04297dfbbe",
   "metadata": {},
   "source": [
    "Wtedy worki zostaną \"rozrzucone\" po kolumnach wynikowej ramki."
   ]
  },
  {
   "cell_type": "code",
   "execution_count": null,
   "id": "e73edbeb-ed09-40a0-b813-c415e6c26be3",
   "metadata": {},
   "outputs": [],
   "source": [
    "..."
   ]
  },
  {
   "cell_type": "code",
   "execution_count": null,
   "id": "d3a49d37-36e3-4eb7-b1bc-23814b3b7d5e",
   "metadata": {},
   "outputs": [],
   "source": [
    "..."
   ]
  },
  {
   "cell_type": "markdown",
   "id": "9ef1e081-0109-4fbd-b1ff-9485feaf52c2",
   "metadata": {},
   "source": [
    "Druga różnica pomiędzy klauzulą `GROUP BY` i metodą `groupby` polega na tym, że metoda `groupby` domyślnie sortuje wynik (odpowiada za to parametr `sort`, którego domyślna wartości to `True`) podczas gdy klauzula `GROUP by` nie sortuje result seta."
   ]
  },
  {
   "cell_type": "markdown",
   "id": "3412c048-68a4-4a7a-94a3-1cbb5e2eb8a8",
   "metadata": {},
   "source": [
    "#### `groupby` technikalia"
   ]
  },
  {
   "cell_type": "markdown",
   "id": "8d9c7f08-3c9f-4182-a7f3-1bf2f2d7f550",
   "metadata": {},
   "source": [
    "Kiedy już nauczyliśmy się jak używać metody `groupby` pora na zapoznanie się z mechanizmem tej metody."
   ]
  },
  {
   "cell_type": "markdown",
   "id": "80d2748f-8ace-439d-aa78-1a64948ee7ed",
   "metadata": {},
   "source": [
    "Przypomnijmy sobie co zwraca metoda `groupby`."
   ]
  },
  {
   "cell_type": "code",
   "execution_count": null,
   "id": "5978f84d-de61-4d03-ba0e-58d3ba5ba9c1",
   "metadata": {},
   "outputs": [],
   "source": [
    "..."
   ]
  },
  {
   "cell_type": "markdown",
   "id": "f453e702-5e74-4d8e-8548-cd824955a35f",
   "metadata": {},
   "source": [
    "obiekt klasy `DataFrameGroupBy`."
   ]
  },
  {
   "cell_type": "markdown",
   "id": "11178723-5f23-46b4-af66-a01d7ce9488d",
   "metadata": {},
   "source": [
    "Dlaczego nie wyświetlił się nam wynik już na tym etapie ?\n",
    "\n",
    "Ponieważ klasa DataFrameGroupBy jest **leniwa** w swojej naturze. Dopóki nie wskażemy co chcemy zrobić (`.count`, `.sum`, `.agg`) nie zacznie grupować, ponieważ w zależności od tego co chcemy otrzymać samo zapytanie może być inaczej realizowane. A nawet jak już wskażemy co chcemy zrobić pandas wciąż nie zacznie wykonywać zapytania. Innymi słowy, zapisanie:"
   ]
  },
  {
   "cell_type": "code",
   "execution_count": null,
   "id": "99fb61a5-bbe7-4f77-8f92-e5e489f97996",
   "metadata": {},
   "outputs": [],
   "source": [
    "..."
   ]
  },
  {
   "cell_type": "markdown",
   "id": "f8d02f6c-dc30-45fc-b877-c8016cd705da",
   "metadata": {},
   "source": [
    "nie spowoduje wykonania zapytania. Dopiero konsumpcja wyniku, czyli moment w którym wynik jest nam już potrzebny, bo dalej coś z nim robimy, jest momentem wykonania obliczeń. Na przykład:"
   ]
  },
  {
   "cell_type": "code",
   "execution_count": null,
   "id": "dc473177-fe10-4225-ae20-af89baf8407a",
   "metadata": {
    "scrolled": true
   },
   "outputs": [],
   "source": [
    "..."
   ]
  },
  {
   "cell_type": "markdown",
   "id": "ba11115a-d0f4-411a-beab-c193fec7ca06",
   "metadata": {},
   "source": [
    "Najczęstszymi sposobami konsumowania wyniku są:\n",
    "- wyświetlanie wyniku\n",
    "- iterowanie się po wyniku\n",
    "- rzutowanie wyniku na jakiś typ (np. listę)\n",
    "\n",
    "I wszystkie inne operacje przy których wynik jest nam potrzebny, żeby móc pójść dalej."
   ]
  },
  {
   "cell_type": "markdown",
   "id": "324b878d-facc-4a8c-bad3-d7b6742cddd2",
   "metadata": {},
   "source": [
    "W kontekście metody `groupby` biblioteki pandas, często pojawia się zbitka słów **split-apply-combine**. Co ona oznacza ?\n",
    "\n",
    "Formuła **split-apply-combine** odnosi się do trzech kroków, które przeważnie realizowane są \"pod maską\" przez metodę `groupby`:\n",
    "- split - rozbicie tabeli na grupy (worki)\n",
    "- apply - zastosowanie jakiejś operacji na każdej grupie (worku) z osobna\n",
    "- combine - połączenie wyników"
   ]
  },
  {
   "cell_type": "markdown",
   "id": "85c0a954-8432-4872-a955-6f1a46150328",
   "metadata": {},
   "source": [
    "Nie jest jednak łatwo zrobić inspekcje metody `groupby`, ponieważ żaden z tych kroków nie jest wykonywany do czasu aż nie zrobimy czegoś do czego potrzebny nam jest już konkretny wynik zapytania.\n",
    "\n",
    "Jak więc rozdzielić kroki split, apply i combine jeżeli nie możemy przyjrzeć się żadnemu z nich z osobna ? Zacznijmy od split.\n",
    "\n",
    "Dobrym sposobem na zobaczenie kroku split w akcji jest przeiterowanie się po obiekcie klasy `DataFrameGroupBy`."
   ]
  },
  {
   "cell_type": "code",
   "execution_count": null,
   "id": "874441b1-9c70-46c5-ac4b-0ce62e802f48",
   "metadata": {},
   "outputs": [],
   "source": [
    "..."
   ]
  },
  {
   "cell_type": "code",
   "execution_count": null,
   "id": "2c018a56-e37c-4d45-9137-b050410b82ac",
   "metadata": {
    "scrolled": true
   },
   "outputs": [],
   "source": [
    "..."
   ]
  },
  {
   "cell_type": "markdown",
   "id": "a20cb516-d4c4-4835-aba8-08200f69679c",
   "metadata": {},
   "source": [
    "Innym dobrym sposobem na analizę etapu split jest atrybut `groups`, który zwraca słownik z parami: nazwa grupy i listą etykiet elementów przypisanych do tej grupy)."
   ]
  },
  {
   "cell_type": "code",
   "execution_count": null,
   "id": "f8df8962-46ef-4b3e-a131-a454abe02616",
   "metadata": {
    "scrolled": true
   },
   "outputs": [],
   "source": [
    "..."
   ]
  },
  {
   "cell_type": "markdown",
   "id": "ec15ae87-0f4a-4113-b596-0a77685640dc",
   "metadata": {},
   "source": [
    "Popatrzmy na jedną groupę."
   ]
  },
  {
   "cell_type": "code",
   "execution_count": null,
   "id": "9a686650-f521-4408-8bb6-650427b79203",
   "metadata": {},
   "outputs": [],
   "source": [
    "..."
   ]
  },
  {
   "cell_type": "markdown",
   "id": "61cfe332-22bd-4d4b-8b3c-e4cef79c96f5",
   "metadata": {},
   "source": [
    "lub metoda `get_group()`"
   ]
  },
  {
   "cell_type": "code",
   "execution_count": null,
   "id": "05c4f94c-3bb5-4035-842a-3411fda0f7d9",
   "metadata": {},
   "outputs": [],
   "source": [
    "..."
   ]
  },
  {
   "cell_type": "markdown",
   "id": "cce8f0cf-3d21-42e4-8dc5-1c189a772974",
   "metadata": {},
   "source": [
    "Metoda `.get_group(\"AL\")` jest odpowiednikiem filtra: <pre><code>df.loc[df[\"state\"] == \"AL\"]</code></pre>"
   ]
  },
  {
   "cell_type": "markdown",
   "id": "ad921728-50ca-4af8-8d17-48c30d6dcd46",
   "metadata": {},
   "source": [
    "A teraz co z etapem `apply` ?\n",
    "\n",
    "Na tym etapie wskazana operacja jest wykonywana na każdej z utorzonych na etapie split grup."
   ]
  },
  {
   "cell_type": "code",
   "execution_count": null,
   "id": "4e4abfdf-0fb5-4c60-8951-d3ba6225d700",
   "metadata": {},
   "outputs": [],
   "source": [
    "..."
   ]
  },
  {
   "cell_type": "code",
   "execution_count": null,
   "id": "b7a45490-62e6-4cfb-a33c-256cdebbfdad",
   "metadata": {},
   "outputs": [],
   "source": [
    "..."
   ]
  },
  {
   "cell_type": "code",
   "execution_count": null,
   "id": "1bc9c169-7b97-4655-9421-08cb2026c3e5",
   "metadata": {},
   "outputs": [],
   "source": [
    "..."
   ]
  },
  {
   "cell_type": "code",
   "execution_count": null,
   "id": "51b72ed3-0d04-4465-82ce-cee30e9f902c",
   "metadata": {
    "scrolled": true
   },
   "outputs": [],
   "source": [
    "..."
   ]
  },
  {
   "cell_type": "code",
   "execution_count": null,
   "id": "5ecafe4b-8a01-4721-8a48-4c9d2affbb31",
   "metadata": {},
   "outputs": [],
   "source": [
    "..."
   ]
  },
  {
   "cell_type": "code",
   "execution_count": null,
   "id": "6c98e5a1-a8e2-4328-9040-c9e5dfd3a95e",
   "metadata": {},
   "outputs": [],
   "source": [
    "..."
   ]
  },
  {
   "cell_type": "markdown",
   "id": "788fa9ba-c8d3-4a6b-b5b6-ab3175596e6a",
   "metadata": {},
   "source": [
    "I to pasuje do naszego ostatecznego wyniku."
   ]
  },
  {
   "cell_type": "markdown",
   "id": "32f1992a-6ac7-4fad-9b70-8c8850a62f8a",
   "metadata": {},
   "source": [
    "Ostatni z etapów **combine** zbiera do jednej ramki/serii wszystkie otrzymane, cząstkowe wynik."
   ]
  },
  {
   "attachments": {
    "da4cdf84-c771-4385-b0bd-b965fa1674a0.png": {
     "image/png": "[encoded data removed]"
    }
   },
   "cell_type": "markdown",
   "id": "7a43c2c5-0da3-476a-9485-17ce1ee7760f",
   "metadata": {},
   "source": [
    "Podsumowując całość, schemat działania metody `groupby` możemy przedstawić za pomocą ilustracji:\n",
    "\n",
    "![groupby.png](attachment:da4cdf84-c771-4385-b0bd-b965fa1674a0.png)"
   ]
  }
 ],
 "metadata": {
  "kernelspec": {
   "display_name": "Python 3 (ipykernel)",
   "language": "python",
   "name": "python3"
  },
  "language_info": {
   "codemirror_mode": {
    "name": "ipython",
    "version": 3
   },
   "file_extension": ".py",
   "mimetype": "text/x-python",
   "name": "python",
   "nbconvert_exporter": "python",
   "pygments_lexer": "ipython3",
   "version": "3.12.4"
  }
 },
 "nbformat": 4,
 "nbformat_minor": 5
}
