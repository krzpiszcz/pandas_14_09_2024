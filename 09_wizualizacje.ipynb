{
 "cells": [
  {
   "cell_type": "markdown",
   "id": "d313b097-7de3-43b0-9b08-8035d26eda69",
   "metadata": {},
   "source": [
    "### Wykresy"
   ]
  },
  {
   "cell_type": "markdown",
   "id": "70e550bf-5257-4f1d-adbc-c5ccdccda300",
   "metadata": {},
   "source": [
    "Dzięki integracji z biblioteką Matplotlib, Pandas umożliwia szybkie i łatwe wizualizowanie danych, co pozwala na lepsze zrozumienie wyników analizy. W przeglądzie omówimy różne rodzaje wykresów, które można tworzyć przy użyciu Pandas, oraz jak dostosować te wykresy do swoich potrzeb."
   ]
  },
  {
   "cell_type": "code",
   "execution_count": null,
   "id": "8c670cef-1a7c-47f4-ac4f-c022cf1605e1",
   "metadata": {
    "scrolled": true
   },
   "outputs": [],
   "source": [
    "pip install matplotlib"
   ]
  },
  {
   "cell_type": "markdown",
   "id": "77b0719e-c557-4d85-b640-f1b288002fb5",
   "metadata": {},
   "source": [
    "#### Wykres liniowy"
   ]
  },
  {
   "cell_type": "markdown",
   "id": "16f4b78b-6ff4-46b4-9156-85c3e595b591",
   "metadata": {},
   "source": [
    "* Używane do przedstawiania danych szeregów czasowych lub trendów.\n",
    "* Idealne do wizualizacji zmian wartości w czasie."
   ]
  },
  {
   "cell_type": "code",
   "execution_count": null,
   "id": "d78224d2-1572-48b1-8e61-9bda1b3b0d94",
   "metadata": {},
   "outputs": [],
   "source": [
    "import pandas as pd\n",
    "import matplotlib.pyplot as plt\n",
    "\n",
    "# Tworzenie przykładowych danych\n",
    "data = {\n",
    "    'rok': [2020, 2021, 2022, 2023],\n",
    "    'sprzedaż': [1500, 1800, 2200, 2500]\n",
    "}\n",
    "df = pd.DataFrame(data)\n",
    "\n",
    "# Wykres liniowy\n",
    "..."
   ]
  },
  {
   "cell_type": "markdown",
   "id": "ba7cf168-6359-460e-b4a2-fcdef9bad3c4",
   "metadata": {},
   "source": [
    "#### Wykres słupkowy"
   ]
  },
  {
   "cell_type": "markdown",
   "id": "6919ea44-9e21-402f-9c8c-39ea13c30456",
   "metadata": {},
   "source": [
    "* Używane do porównania wartości pomiędzy różnymi kategoriami.\n",
    "* Doskonałe do wizualizacji danych kategorycznych."
   ]
  },
  {
   "cell_type": "code",
   "execution_count": null,
   "id": "a01d1693-ea5c-44b9-add3-8e3ca1b9e7a4",
   "metadata": {},
   "outputs": [],
   "source": [
    "# Tworzenie przykładowych danych\n",
    "data = {\n",
    "    'kategoria': ['A', 'B', 'C', 'D'],\n",
    "    'wartość': [4, 7, 1, 8]\n",
    "}\n",
    "df = pd.DataFrame(data)\n",
    "\n",
    "# Wykres słupkowy\n",
    "..."
   ]
  },
  {
   "cell_type": "markdown",
   "id": "c0c78d9f-af52-435b-b252-866aed7693ed",
   "metadata": {},
   "source": [
    "#### Wykresy kołowe\n",
    "\n",
    "* Używane do przedstawiania udziałów procentowych różnych kategorii w całości.\n",
    "* Dobrze sprawdzają się przy wizualizacji rozkładów."
   ]
  },
  {
   "cell_type": "code",
   "execution_count": null,
   "id": "cba24e94-1dfc-45ad-9be4-62aeb0836515",
   "metadata": {},
   "outputs": [],
   "source": [
    "data = {\n",
    "    'kategoria': ['A', 'B', 'C', 'D'],\n",
    "    'udział': [15, 30, 45, 10]\n",
    "}\n",
    "df = pd.DataFrame(data)\n",
    "\n",
    "# Wykres kołowy\n",
    "..."
   ]
  },
  {
   "cell_type": "markdown",
   "id": "87af82f5-6e85-4b33-8a8c-66e3cc33783e",
   "metadata": {},
   "source": [
    "#### Wykresy punktowe (scatter plot)\n",
    "\n",
    "* Używane do wizualizacji zależności pomiędzy dwiema zmiennymi.\n",
    "* Pomagają zobaczyć, czy istnieje jakiś związek między tymi zmiennymi."
   ]
  },
  {
   "cell_type": "code",
   "execution_count": null,
   "id": "66d18697-22f0-4c19-a9ff-da064be1f763",
   "metadata": {},
   "outputs": [],
   "source": [
    "# Tworzenie przykładowych danych\n",
    "data = {\n",
    "    'x': [1, 2, 3, 4, 5, 6, 7, 8],\n",
    "    'y': [1, 4, 9, 16, 25, 36, 49, 64]\n",
    "}\n",
    "df = pd.DataFrame(data)\n",
    "\n",
    "# Wykres punktowy\n",
    "..."
   ]
  }
 ],
 "metadata": {
  "kernelspec": {
   "display_name": "Python 3 (ipykernel)",
   "language": "python",
   "name": "python3"
  },
  "language_info": {
   "codemirror_mode": {
    "name": "ipython",
    "version": 3
   },
   "file_extension": ".py",
   "mimetype": "text/x-python",
   "name": "python",
   "nbconvert_exporter": "python",
   "pygments_lexer": "ipython3",
   "version": "3.12.4"
  }
 },
 "nbformat": 4,
 "nbformat_minor": 5
}
