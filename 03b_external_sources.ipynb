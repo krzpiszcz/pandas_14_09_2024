{
 "cells": [
  {
   "cell_type": "markdown",
   "id": "fcee360d-a29c-49e8-9cb1-9e9e3edf3107",
   "metadata": {},
   "source": [
    "### Tworzenie ramek danych na podstawie zewnętrznych danych - obsługa formatu json"
   ]
  },
  {
   "cell_type": "code",
   "execution_count": null,
   "id": "d1f4f8b5-f074-4cb0-b132-cdd1a5468b70",
   "metadata": {},
   "outputs": [],
   "source": [
    "import pandas as pd"
   ]
  },
  {
   "cell_type": "markdown",
   "id": "e4377e1e-363e-412a-815a-f57c3f07a25c",
   "metadata": {},
   "source": [
    "#### Ramka z json stringa"
   ]
  },
  {
   "cell_type": "code",
   "execution_count": null,
   "id": "68363ebb-9cf9-4f8d-b097-0f6cd4c3265e",
   "metadata": {},
   "outputs": [],
   "source": [
    "# json string                                                                                                                \n",
    "s = '''{\n",
    "    \"col1\": {\n",
    "        \"row1\":1,\n",
    "        \"row2\":2,\n",
    "        \"row3\":3\n",
    "    },\n",
    "    \"col2\":{\n",
    "        \"row1\":\"x\",\n",
    "        \"row2\":\"y\",\n",
    "        \"row3\":\"z\"\n",
    "    }\n",
    "}'''"
   ]
  },
  {
   "cell_type": "code",
   "execution_count": null,
   "id": "f02d9c8a-99a4-4fb0-82cb-e8633ffd52ef",
   "metadata": {},
   "outputs": [],
   "source": [
    "# read json to data frame                                                                                                    \n",
    "..."
   ]
  },
  {
   "cell_type": "code",
   "execution_count": null,
   "id": "5e6c7cff-6447-4dfd-8101-1e80f696d5bc",
   "metadata": {},
   "outputs": [],
   "source": [
    "..."
   ]
  },
  {
   "cell_type": "markdown",
   "id": "46a791d7-752b-4e0c-9032-86eec5efcb5b",
   "metadata": {},
   "source": [
    "##### Ramka z api (json)"
   ]
  },
  {
   "cell_type": "code",
   "execution_count": null,
   "id": "55d80907-6fe4-46d8-a009-7c6906b288a5",
   "metadata": {},
   "outputs": [],
   "source": [
    "import requests\n",
    "\n",
    "url = \"https://api.exchangerate-api.com/v4/latest/USD\"\n",
    "..."
   ]
  },
  {
   "cell_type": "markdown",
   "id": "75534eb3-7c1c-4b67-b656-6f21d1e7aadf",
   "metadata": {},
   "source": [
    "##### Zapisanie ramki w formacie json"
   ]
  },
  {
   "cell_type": "code",
   "execution_count": null,
   "id": "40b32db9-f24f-4d4e-8182-9f26b7737210",
   "metadata": {},
   "outputs": [],
   "source": [
    "import pandas as pd\n",
    "import json\n",
    "\n",
    "data = [['Axel',32], ['Alice', 26], ['Alex', 45]]\n",
    "df = pd.DataFrame(data,columns=['Name','Age'])\n",
    "df"
   ]
  },
  {
   "cell_type": "code",
   "execution_count": null,
   "id": "54b69bf3-b99c-44df-9016-2adb7766e8a1",
   "metadata": {},
   "outputs": [],
   "source": [
    "..."
   ]
  },
  {
   "cell_type": "markdown",
   "id": "471f6f01-147c-47d9-9b38-601407936b72",
   "metadata": {},
   "source": [
    "#### Praca z zagnieżdżonymi jsonami"
   ]
  },
  {
   "cell_type": "markdown",
   "id": "26f38a07-8f03-474d-82b6-f9b66ec602dd",
   "metadata": {},
   "source": [
    "Zagnieżdżone struktury JSON są często reprezentowane jako słowniki lub listy, a Pandas potrafi przekształcać te struktury na ramkę."
   ]
  },
  {
   "cell_type": "code",
   "execution_count": null,
   "id": "6f11c84b-a376-4610-ae5c-c2afb68640de",
   "metadata": {},
   "outputs": [],
   "source": [
    "# Przykładowy zagnieżdżony JSON jako string\n",
    "json_data = '''\n",
    "[\n",
    "    {\n",
    "        \"name\": \"Alice\",\n",
    "        \"age\": 25,\n",
    "        \"address\": {\n",
    "            \"street\": \"123 Main St\",\n",
    "            \"city\": \"Wonderland\"\n",
    "        },\n",
    "        \"hobbies\": [\"reading\", \"gardening\"]\n",
    "    },\n",
    "    {\n",
    "        \"name\": \"Bob\",\n",
    "        \"age\": 30,\n",
    "        \"address\": {\n",
    "            \"street\": \"456 Elm St\",\n",
    "            \"city\": \"Builderland\"\n",
    "        },\n",
    "        \"hobbies\": [\"building\", \"cycling\"]\n",
    "    }\n",
    "]\n",
    "'''"
   ]
  },
  {
   "cell_type": "markdown",
   "id": "a4595ab1-f5fa-4cde-9568-21244ff3d5cb",
   "metadata": {},
   "source": [
    "Możemy użyć funkcji `pd.json_normalize`, w celu spłaszczenia zagnieżdżonej struktury. Pandas automatycznie przekształci zagnieżdżone słowniki w kolumny i stworzy kolumny z list, w zależności od struktury."
   ]
  },
  {
   "cell_type": "code",
   "execution_count": null,
   "id": "f790d2d0-49e4-41a7-b25c-f4ce18cbaa0b",
   "metadata": {},
   "outputs": [],
   "source": [
    "# Spłaszczenie zagnieżdżonej struktury\n",
    "..."
   ]
  },
  {
   "cell_type": "markdown",
   "id": "ef45e07a-406b-446c-a469-f6e35c2ed17a",
   "metadata": {},
   "source": [
    "Jeśli masz bardziej złożoną strukturę (np. zagnieżdżone listy), dodatkowe kroki mogą okazać się potrzebne, aby odpowiednio przetworzyć te dane."
   ]
  }
 ],
 "metadata": {
  "kernelspec": {
   "display_name": "Python 3 (ipykernel)",
   "language": "python",
   "name": "python3"
  },
  "language_info": {
   "codemirror_mode": {
    "name": "ipython",
    "version": 3
   },
   "file_extension": ".py",
   "mimetype": "text/x-python",
   "name": "python",
   "nbconvert_exporter": "python",
   "pygments_lexer": "ipython3",
   "version": "3.12.4"
  }
 },
 "nbformat": 4,
 "nbformat_minor": 5
}
